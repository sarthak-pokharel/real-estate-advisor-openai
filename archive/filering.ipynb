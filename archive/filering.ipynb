{
 "cells": [
  {
   "cell_type": "code",
   "execution_count": 17,
   "id": "4e56e3a9-ad2a-49a2-8075-93e38b7897ed",
   "metadata": {},
   "outputs": [
    {
     "data": {
      "text/plain": [
       "True"
      ]
     },
     "execution_count": 17,
     "metadata": {},
     "output_type": "execute_result"
    }
   ],
   "source": [
    "import pandas as pd\n",
    "from dotenv import load_dotenv\n",
    "load_dotenv()"
   ]
  },
  {
   "cell_type": "code",
   "execution_count": 2,
   "id": "e30a1263-7b6a-4189-96a1-22e9c4d5c04d",
   "metadata": {},
   "outputs": [],
   "source": [
    "addresses = pd.read_csv(\"datasets/processed/london.csv\")"
   ]
  },
  {
   "cell_type": "code",
   "execution_count": 3,
   "id": "b0103eee-88c1-4c1a-8c60-3b954f75fb37",
   "metadata": {},
   "outputs": [
    {
     "data": {
      "text/html": [
       "<div>\n",
       "<style scoped>\n",
       "    .dataframe tbody tr th:only-of-type {\n",
       "        vertical-align: middle;\n",
       "    }\n",
       "\n",
       "    .dataframe tbody tr th {\n",
       "        vertical-align: top;\n",
       "    }\n",
       "\n",
       "    .dataframe thead th {\n",
       "        text-align: right;\n",
       "    }\n",
       "</style>\n",
       "<table border=\"1\" class=\"dataframe\">\n",
       "  <thead>\n",
       "    <tr style=\"text-align: right;\">\n",
       "      <th></th>\n",
       "      <th>address</th>\n",
       "      <th>City</th>\n",
       "      <th>rent per month in euro</th>\n",
       "      <th>rent per annum in euro</th>\n",
       "      <th>size range (sq ft)</th>\n",
       "      <th>size range (sq m)</th>\n",
       "      <th>key features</th>\n",
       "      <th>description</th>\n",
       "      <th>link</th>\n",
       "    </tr>\n",
       "  </thead>\n",
       "  <tbody>\n",
       "    <tr>\n",
       "      <th>0</th>\n",
       "      <td>55 Goswell Road, Clerkenwell, London, EC1V 7EN.</td>\n",
       "      <td>London</td>\n",
       "      <td>3255</td>\n",
       "      <td>39060</td>\n",
       "      <td>601-2768</td>\n",
       "      <td>56-257</td>\n",
       "      <td>This building is located in a prime Clerkenwel...</td>\n",
       "      <td>This building is situated in a highly desirabl...</td>\n",
       "      <td>https://www.rightmove.co.uk/properties/1251163...</td>\n",
       "    </tr>\n",
       "    <tr>\n",
       "      <th>1</th>\n",
       "      <td>415 Wick Lane, London E3.</td>\n",
       "      <td>London</td>\n",
       "      <td>3850</td>\n",
       "      <td>46200</td>\n",
       "      <td>849-545000</td>\n",
       "      <td>79-50632</td>\n",
       "      <td>Studio G101 is a loft-style studio located in ...</td>\n",
       "      <td>Studio G101 is a versatile loft-style studio l...</td>\n",
       "      <td>https://www.rightmove.co.uk/properties/1457024...</td>\n",
       "    </tr>\n",
       "    <tr>\n",
       "      <th>2</th>\n",
       "      <td>4-10 North Road, Islington, London.</td>\n",
       "      <td>London</td>\n",
       "      <td>5688</td>\n",
       "      <td>68256</td>\n",
       "      <td>871-535000</td>\n",
       "      <td>81-49703</td>\n",
       "      <td>Studio 0.07 is a Cowarehousing space located i...</td>\n",
       "      <td>Studio 0.07 is a Cowarehousing space located i...</td>\n",
       "      <td>https://www.rightmove.co.uk/properties/1497522...</td>\n",
       "    </tr>\n",
       "    <tr>\n",
       "      <th>3</th>\n",
       "      <td>Republic, Import Building, London E14 2BE</td>\n",
       "      <td>London</td>\n",
       "      <td>2917</td>\n",
       "      <td>35004</td>\n",
       "      <td>1000-400000</td>\n",
       "      <td>93-37161</td>\n",
       "      <td>Newly transformed contemporary campus in East ...</td>\n",
       "      <td>The Import Building is a modern campus in East...</td>\n",
       "      <td>https://www.rightmove.co.uk/properties/7959716...</td>\n",
       "    </tr>\n",
       "    <tr>\n",
       "      <th>4</th>\n",
       "      <td>30 South Colonnade, London E14 5EP.</td>\n",
       "      <td>London</td>\n",
       "      <td>7356</td>\n",
       "      <td>88272</td>\n",
       "      <td>1605-302773</td>\n",
       "      <td>149-28129</td>\n",
       "      <td>Located in the iconic Canary Wharf, this prope...</td>\n",
       "      <td>Situated in the renowned Canary Wharf, this pr...</td>\n",
       "      <td>https://www.rightmove.co.uk/properties/1173844...</td>\n",
       "    </tr>\n",
       "  </tbody>\n",
       "</table>\n",
       "</div>"
      ],
      "text/plain": [
       "                                           address    City  \\\n",
       "0  55 Goswell Road, Clerkenwell, London, EC1V 7EN.  London   \n",
       "1                        415 Wick Lane, London E3.  London   \n",
       "2              4-10 North Road, Islington, London.  London   \n",
       "3        Republic, Import Building, London E14 2BE  London   \n",
       "4              30 South Colonnade, London E14 5EP.  London   \n",
       "\n",
       "   rent per month in euro  rent per annum in euro size range (sq ft)  \\\n",
       "0                    3255                   39060           601-2768   \n",
       "1                    3850                   46200         849-545000   \n",
       "2                    5688                   68256         871-535000   \n",
       "3                    2917                   35004        1000-400000   \n",
       "4                    7356                   88272        1605-302773   \n",
       "\n",
       "  size range (sq m)                                       key features  \\\n",
       "0            56-257  This building is located in a prime Clerkenwel...   \n",
       "1          79-50632  Studio G101 is a loft-style studio located in ...   \n",
       "2          81-49703  Studio 0.07 is a Cowarehousing space located i...   \n",
       "3          93-37161  Newly transformed contemporary campus in East ...   \n",
       "4         149-28129  Located in the iconic Canary Wharf, this prope...   \n",
       "\n",
       "                                         description  \\\n",
       "0  This building is situated in a highly desirabl...   \n",
       "1  Studio G101 is a versatile loft-style studio l...   \n",
       "2  Studio 0.07 is a Cowarehousing space located i...   \n",
       "3  The Import Building is a modern campus in East...   \n",
       "4  Situated in the renowned Canary Wharf, this pr...   \n",
       "\n",
       "                                                link  \n",
       "0  https://www.rightmove.co.uk/properties/1251163...  \n",
       "1  https://www.rightmove.co.uk/properties/1457024...  \n",
       "2  https://www.rightmove.co.uk/properties/1497522...  \n",
       "3  https://www.rightmove.co.uk/properties/7959716...  \n",
       "4  https://www.rightmove.co.uk/properties/1173844...  "
      ]
     },
     "execution_count": 3,
     "metadata": {},
     "output_type": "execute_result"
    }
   ],
   "source": [
    "addresses.head()"
   ]
  },
  {
   "cell_type": "code",
   "execution_count": 9,
   "id": "538319a6-ac99-4db6-aeff-c92ee63af0ef",
   "metadata": {
    "scrolled": true
   },
   "outputs": [
    {
     "name": "stdout",
     "output_type": "stream",
     "text": [
      "This building is located in a prime Clerkenwell location on Goswell Road. The studios have been recently refurbished to a high standard, with modern suspended lighting, wooden flooring, and BT fibre connectivity. Many studios and headline events for Clerkenwell Design Week are located here. The area is home to major companies in design, fashion, technology, and showrooms. Transport is easily accessible, with Farringdon station serving multiple lines and the Cycle Superhighway nearby. The floors are offered fully fitted and furnished, with the option for a fully managed space. The property is elected for VAT and can be leased directly from the freeholder.\n",
      "\n",
      "Studio G101 is a loft-style studio located in a newly refurbished warehouse space in Tradestars Hackney Wick. The unit features high ceilings, plenty of natural light, exposed metal beams, and a mezzanine. Cowarehousing is a concept where businesses can have their own full-service warehouse and work environment, with access to communal spaces and private units. Tradestars Hackney Wick offers various amenities such as hosting events and workshops, and is pet-friendly. The current residents include e-commerce brands, rug crafters, photographers, film producers, events companies, and tattoo artists. This versatile space can be used for various purposes such as office, warehouse, workshop, industrial, studio, storage, and more. Come and see if Tradestars can be your next business headquarters.\n",
      "\n",
      "Studio 0.07 is a Cowarehousing space located in Islington, offering a full-service warehouse and work environment for businesses. With communal spaces and private units, it provides a versatile space for creating, storing, and selling goods and services. The monthly rent for a studio is £5,688 and the size is 871 sq/ft. Cowarehousing is a concept that allows businesses to have their own workspace while also being part of a community of local independent businesses. The space is pet-friendly and hosts regular events and workshops. It can be used for various purposes such as office, warehouse, workshop, industrial, studio, storage, and more. The images used in the listing are indicative and taken from Tradestars Hackney Wick.\n",
      "\n",
      "Newly transformed contemporary campus in East London 275,000 sq ft of creative workspace over nine floors Part of the multi-award-winning Republic campus Amenities such as a gym, restaurants, cafes, and a curated fitness and wellness program VAV air conditioning, LED lighting, raised floors, and 14 lifts 250 secure cycle spaces, showers, and roof terraces Well-connected with two DLR stations Close to Canary Wharf and the City Vibrant community of innovative and creative businesses\n",
      "\n",
      "Located in the iconic Canary Wharf, this property offers a welcoming gateway to a vibrant and globally-relevant community. With the upcoming Crossrail, it provides easy access to a diverse pool of talent and clients. Priced at £55.00 per sq ft, it is a prime opportunity for businesses to establish themselves in this growing area.\n",
      "\n"
     ]
    }
   ],
   "source": [
    "for i in range(5):\n",
    "    print(addresses['key features'][i])\n",
    "    print()"
   ]
  },
  {
   "cell_type": "code",
   "execution_count": 12,
   "id": "f8c69a1e-5ee7-4122-96bf-77b1c4d93cf1",
   "metadata": {},
   "outputs": [],
   "source": [
    "from langchain_community.tools import WikipediaQueryRun\n",
    "from langchain_community.utilities import WikipediaAPIWrapper\n",
    "\n",
    "wiki_tool = WikipediaQueryRun(api_wrapper=WikipediaAPIWrapper())"
   ]
  },
  {
   "cell_type": "code",
   "execution_count": 34,
   "id": "1f5a60ef-6557-4db8-8cf0-c19c67361023",
   "metadata": {},
   "outputs": [
    {
     "name": "stderr",
     "output_type": "stream",
     "text": [
      "C:\\Users\\sarth\\anaconda3\\envs\\advisor\\Lib\\site-packages\\wikipedia\\wikipedia.py:389: GuessedAtParserWarning: No parser was explicitly specified, so I'm using the best available HTML parser for this system (\"html.parser\"). This usually isn't a problem, but if you run this code on another system, or in a different virtual environment, it may use a different parser and behave differently.\n",
      "\n",
      "The code that caused this warning is on line 389 of the file C:\\Users\\sarth\\anaconda3\\envs\\advisor\\Lib\\site-packages\\wikipedia\\wikipedia.py. To get rid of this warning, pass the additional argument 'features=\"html.parser\"' to the BeautifulSoup constructor.\n",
      "\n",
      "  lis = BeautifulSoup(html).find_all('li')\n"
     ]
    },
    {
     "data": {
      "text/plain": [
       "\"Page: Goswell Road\\nSummary: Goswell Road, in Central London, is an end part of the A1. The southern part ends with one block, on the east side, in City of London; the rest is in the London Borough of Islington, the north end being Angel. It crosses Old Street/Clerkenwell Road. In the north it splits Clerkenwell from Finsbury; the south was sometimes used as a demarcator but all but the southern corporate/legal/financial end in the modern era forms the heart of the highly developed mixed-use district Barbican.\\nAll of the road is inside the Central London congestion charge zone.\\n\\nPage: Farringdon, London\\nSummary: Farringdon is an area in London and is located in the London Borough of Islington. It lies just north of the border with the City of London in Central London and close to Holborn. The term is used to describe the area around Farringdon station.\\nHistorically the district corresponded to southern Clerkenwell and the small parish of St Sepulchre Middlesex. The area's name is a back-formation: It takes its name from the station, which was in turn named after Farringdon Street. To the south lie the City of London wards of Farringdon Within and Farringdon Without. The City Wards, which were once a single unit, are unconnected to the distinct area of Farringdon to their north, though there is an etymological connection.\""
      ]
     },
     "execution_count": 34,
     "metadata": {},
     "output_type": "execute_result"
    }
   ],
   "source": [
    "s = wiki_tool.run(\"goswell road\")\n",
    "s"
   ]
  },
  {
   "cell_type": "code",
   "execution_count": 27,
   "id": "7454be2d-976e-4b5b-8ca7-44eff593d504",
   "metadata": {},
   "outputs": [],
   "source": [
    "from langchain_openai import OpenAI\n",
    "from langchain_core.prompts import PromptTemplate"
   ]
  },
  {
   "cell_type": "code",
   "execution_count": 28,
   "id": "15adcf94-d2cb-4017-946b-235b466aa959",
   "metadata": {},
   "outputs": [],
   "source": [
    "client = OpenAI(temperature=0)\n",
    "\n",
    "template = \"\"\"Wikipedia Summary: ```{summary}```\n",
    "\n",
    "The all structured and simplified data mapping extracted from above summary are listed below.\n",
    "\"\"\"\n",
    "extraction_prompt = PromptTemplate.from_template(template)"
   ]
  },
  {
   "cell_type": "code",
   "execution_count": 32,
   "id": "ac1c1346-0e5b-4872-a3e3-6fee95a042d2",
   "metadata": {},
   "outputs": [],
   "source": [
    "chain = extraction_prompt | client"
   ]
  },
  {
   "cell_type": "code",
   "execution_count": 35,
   "id": "7ea8c9da-d1b8-4705-928b-7b5136d8b66f",
   "metadata": {},
   "outputs": [
    {
     "data": {
      "text/plain": [
       "'\\n- Location: Central London\\n- Road: Goswell Road\\n- End: A1\\n- Southern Part: City of London\\n- London Borough: Islington\\n- North End: Angel\\n- Crosses: Old Street/Clerkenwell Road\\n- North: Clerkenwell\\n- South: Finsbury\\n- Demarcator: Southern corporate/legal/financial end\\n- District: Barbican\\n- Congestion Charge Zone: Central London\\n- Area: Farringdon\\n- London Borough: Islington\\n- Border: City of London\\n- Central London: Holborn\\n- Station: Farringdon station\\n- Historical District: Southern Clerkenwell and St Sepulchre Middlesex\\n- Back-formation: Farringdon Street\\n- City of London Wards: Farringdon Within and Farringdon Without\\n- Unconnected: City Wards and Farringdon\\n- Etymological Connection: City Wards and Farringdon'"
      ]
     },
     "execution_count": 35,
     "metadata": {},
     "output_type": "execute_result"
    }
   ],
   "source": [
    "chain.invoke(dict(summary=s))"
   ]
  },
  {
   "cell_type": "code",
   "execution_count": 36,
   "id": "4ac49598-06f5-411c-8187-cd16838978ff",
   "metadata": {},
   "outputs": [
    {
     "name": "stdout",
     "output_type": "stream",
     "text": [
      "\n",
      "- Location: Central London\n",
      "- Road: Goswell Road\n",
      "- End: A1\n",
      "- Southern Part: City of London\n",
      "- London Borough: Islington\n",
      "- North End: Angel\n",
      "- Crosses: Old Street/Clerkenwell Road\n",
      "- North: Clerkenwell\n",
      "- South: Finsbury\n",
      "- Demarcator: Southern corporate/legal/financial end\n",
      "- District: Barbican\n",
      "- Congestion Charge Zone: Central London\n",
      "- Area: Farringdon\n",
      "- London Borough: Islington\n",
      "- Border: City of London\n",
      "- Central London: Holborn\n",
      "- Station: Farringdon station\n",
      "- Historical District: Southern Clerkenwell and St Sepulchre Middlesex\n",
      "- Back-formation: Farringdon Street\n",
      "- City of London Wards: Farringdon Within and Farringdon Without\n",
      "- Unconnected: City Wards and Farringdon\n",
      "- Etymological Connection: City Wards and Farringdon\n"
     ]
    }
   ],
   "source": [
    "print('\\n- Location: Central London\\n- Road: Goswell Road\\n- End: A1\\n- Southern Part: City of London\\n- London Borough: Islington\\n- North End: Angel\\n- Crosses: Old Street/Clerkenwell Road\\n- North: Clerkenwell\\n- South: Finsbury\\n- Demarcator: Southern corporate/legal/financial end\\n- District: Barbican\\n- Congestion Charge Zone: Central London\\n- Area: Farringdon\\n- London Borough: Islington\\n- Border: City of London\\n- Central London: Holborn\\n- Station: Farringdon station\\n- Historical District: Southern Clerkenwell and St Sepulchre Middlesex\\n- Back-formation: Farringdon Street\\n- City of London Wards: Farringdon Within and Farringdon Without\\n- Unconnected: City Wards and Farringdon\\n- Etymological Connection: City Wards and Farringdon')"
   ]
  },
  {
   "cell_type": "code",
   "execution_count": null,
   "id": "9970e458-809a-41af-ada9-da1c697d942f",
   "metadata": {},
   "outputs": [],
   "source": []
  }
 ],
 "metadata": {
  "kernelspec": {
   "display_name": "Python 3 (ipykernel)",
   "language": "python",
   "name": "python3"
  },
  "language_info": {
   "codemirror_mode": {
    "name": "ipython",
    "version": 3
   },
   "file_extension": ".py",
   "mimetype": "text/x-python",
   "name": "python",
   "nbconvert_exporter": "python",
   "pygments_lexer": "ipython3",
   "version": "3.12.4"
  }
 },
 "nbformat": 4,
 "nbformat_minor": 5
}
