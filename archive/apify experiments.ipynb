{
 "cells": [
  {
   "cell_type": "code",
   "execution_count": 8,
   "id": "067155c0-f2bc-4d60-ba4b-e84f7947f534",
   "metadata": {},
   "outputs": [
    {
     "data": {
      "text/plain": [
       "True"
      ]
     },
     "execution_count": 8,
     "metadata": {},
     "output_type": "execute_result"
    }
   ],
   "source": [
    "import dotenv\n",
    "dotenv.load_dotenv()"
   ]
  },
  {
   "cell_type": "code",
   "execution_count": null,
   "id": "934d6c16-5449-4ec3-97ff-281643713c81",
   "metadata": {},
   "outputs": [],
   "source": []
  },
  {
   "cell_type": "code",
   "execution_count": 9,
   "id": "6ad3c519-1873-4af5-853d-b8e971e261c9",
   "metadata": {},
   "outputs": [],
   "source": [
    "from apify_client import ApifyClient\n",
    "\n"
   ]
  },
  {
   "cell_type": "code",
   "execution_count": 10,
   "id": "208a47b4-4027-4b54-962f-14c04a58af0e",
   "metadata": {},
   "outputs": [],
   "source": [
    "# Initialize the ApifyClient with your Apify API token\n",
    "client = ApifyClient(\"apify_api_N6nCEkR6tKKAVR1G8wkAv3tYpcYaDV0G6TJg\")\n",
    "\n"
   ]
  },
  {
   "cell_type": "code",
   "execution_count": null,
   "id": "12c4842e-f7e1-4691-95c2-1efc06bd7115",
   "metadata": {},
   "outputs": [],
   "source": [
    "# Prepare the Actor input\n",
    "run_input = {\n",
    "    \"listUrls\": [{ \"url\": \"https://www.rightmove.co.uk/property-for-sale/London.html\" }],\n",
    "    \"propertyUrls\": [],\n",
    "    \"proxy\": { \"useApifyProxy\": True },\n",
    "}\n",
    "\n",
    "# Run the Actor and wait for it to finish\n",
    "run = client.actor(\"dhrumil/rightmove-scraper\").call(run_input=run_input)\n",
    "\n",
    "# Fetch and print Actor results from the run's dataset (if there are any)\n",
    "print(\"💾 Check your data here: https://console.apify.com/storage/datasets/\" + run[\"defaultDatasetId\"])\n",
    "for item in client.dataset(run[\"defaultDatasetId\"]).iterate_items():\n",
    "    print(item)\n",
    "\n",
    "# 📚 Want to learn more 📖? Go to → https://docs.apify.com/api/client/python/docs/quick-start"
   ]
  },
  {
   "cell_type": "code",
   "execution_count": null,
   "id": "b494322c-c82c-42a5-9687-53ec89ad0df7",
   "metadata": {},
   "outputs": [],
   "source": []
  }
 ],
 "metadata": {
  "kernelspec": {
   "display_name": "Python 3 (ipykernel)",
   "language": "python",
   "name": "python3"
  },
  "language_info": {
   "codemirror_mode": {
    "name": "ipython",
    "version": 3
   },
   "file_extension": ".py",
   "mimetype": "text/x-python",
   "name": "python",
   "nbconvert_exporter": "python",
   "pygments_lexer": "ipython3",
   "version": "3.12.4"
  }
 },
 "nbformat": 4,
 "nbformat_minor": 5
}
