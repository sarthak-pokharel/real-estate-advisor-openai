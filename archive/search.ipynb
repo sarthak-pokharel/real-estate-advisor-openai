{
 "cells": [
  {
   "cell_type": "code",
   "execution_count": 2,
   "id": "1645398d-f09b-419d-8941-04f9bc8320d8",
   "metadata": {},
   "outputs": [
    {
     "data": {
      "text/plain": [
       "True"
      ]
     },
     "execution_count": 2,
     "metadata": {},
     "output_type": "execute_result"
    }
   ],
   "source": [
    "import dotenv\n",
    "dotenv.load_dotenv()"
   ]
  },
  {
   "cell_type": "code",
   "execution_count": 3,
   "id": "09adbf23-272c-42dd-a501-ffd8169cc9e3",
   "metadata": {},
   "outputs": [],
   "source": [
    "from langchain.utilities.tavily_search import TavilySearchAPIWrapper\n",
    "from langchain.tools.tavily_search import TavilySearchResults\n",
    "\n",
    "tavily_tool = TavilySearchResults(api_wrapper=TavilySearchAPIWrapper())\n",
    "\n",
    "\n",
    "from langchain_community.tools import WikipediaQueryRun\n",
    "from langchain_community.utilities import WikipediaAPIWrapper\n",
    "\n",
    "wikipedia = WikipediaQueryRun(api_wrapper=WikipediaAPIWrapper())\n",
    "\n",
    "available_tools = [tavily_tool, wikipedia]\n",
    "# wikipedia"
   ]
  },
  {
   "cell_type": "code",
   "execution_count": 4,
   "id": "2d5a7716-b760-4cda-8e14-921a2f2315f0",
   "metadata": {},
   "outputs": [],
   "source": [
    "from langchain_openai import ChatOpenAI\n",
    "llm = ChatOpenAI(temperature=0)"
   ]
  },
  {
   "cell_type": "code",
   "execution_count": null,
   "id": "ebd44c12-a70d-45d8-a6ca-8d3a48467489",
   "metadata": {},
   "outputs": [],
   "source": []
  },
  {
   "cell_type": "code",
   "execution_count": 46,
   "id": "d022a959-3df0-4dd5-b75d-6eafe4062b5e",
   "metadata": {},
   "outputs": [],
   "source": [
    "properties_path = \"datasets/apify_rightmove_london_rental.pkl\"\n",
    "import pickle\n",
    "def load_properties():\n",
    "    return pickle.load(open(properties_path, 'rb'))\n",
    "properties = load_properties()\n",
    "\n",
    "# properties[0]"
   ]
  },
  {
   "cell_type": "code",
   "execution_count": 6,
   "id": "75d33d30-7b7f-41f7-9e27-705222595151",
   "metadata": {},
   "outputs": [],
   "source": [
    "\n",
    "from pydantic_core import from_json\n",
    "from pydantic import BaseModel, Field\n",
    "from typing import List\n",
    "import json\n",
    "\n",
    "class Station(BaseModel):\n",
    "    name:str\n",
    "    distance: float\n",
    "    unit: str\n",
    "class Property(BaseModel):\n",
    "    id: int = Field(description=\"Unique identifier for property\")\n",
    "    url: str = Field(description=\"URL of property sale\")\n",
    "    title: str = Field(description=\"Property Title\")\n",
    "    displayAddress: str = Field(description=\"Display Address\")\n",
    "    bathrooms: int = Field(description=\"Num of bathrooms\")\n",
    "    bedrooms: int = Field(description=\"Num of bedrooms\")\n",
    "    propertyType: str = Field(description=\"Type of property\")\n",
    "    price: int = Field(description=\"price in euro per month\")\n",
    "    features: str = Field(description=\"key features of property\")\n",
    "    description: str = Field(description=\"Property Description\")\n",
    "    nearestStations: List[Station] = Field(description=\"Nearby Stations Info\")\n",
    "    borough: str = Field(description=\"Borough where the property lies\")\n",
    "    ward: str = Field(description=\"Ward where the property lies\")\n",
    "def PropertyStringify(prop):\n",
    "    pass\n",
    "obj_props = [Property.model_validate(from_json(json.dumps(w))) for w in properties]"
   ]
  },
  {
   "cell_type": "code",
   "execution_count": null,
   "id": "77b711bf-4054-4f9d-bc1a-1421efaee382",
   "metadata": {},
   "outputs": [],
   "source": []
  },
  {
   "cell_type": "code",
   "execution_count": 7,
   "id": "5fe70d17-fa36-4aa7-ab15-bef0916a83c0",
   "metadata": {},
   "outputs": [],
   "source": [
    "from langchain.prompts import PromptTemplate\n",
    "from langchain_core.output_parsers import JsonOutputParser, PydanticOutputParser\n",
    "\n",
    "class NumRange(BaseModel):\n",
    "    start_from: int = Field(description=\"Range Starting From Value\")\n",
    "    end_in: int = Field(description=\"Range Ends To Value\")\n",
    "\n",
    "class FloatRange(BaseModel):\n",
    "    start_from: float = Field(description=\"Range Starting From Value\")\n",
    "    end_in: float = Field(description=\"Range Ends To Value\")\n",
    "\n",
    "class RequiredFields(BaseModel):\n",
    "    property_description: str = Field(description=\"Property Description\")\n",
    "    price_range: NumRange = Field(description=\"Price range. Default Value is 0 to 99999999. \")\n",
    "    borough: str = Field(description=\"Borough where property lies or empty if not specified\")\n",
    "    ward: str = Field(description=\"Ward where property lies or empty if not specified\")\n",
    "    bathrooms_range: NumRange = Field(description=\"No of bathrooms range. 1 - 999 is the default value. \")\n",
    "    bedrooms_range: NumRange = Field(description=\"No of bedrooms range. 1 - 999 is the default value. \")\n",
    "    special_qualities: str = Field(description=\"Any special demands of user. Leave empty if not. \")\n",
    "    nearest_station_distance: FloatRange = Field(\"Range of distance for for nearest station in miles. 0 to 99 default value.  \")\n",
    "\n",
    "filter_parser = PydanticOutputParser(pydantic_object=RequiredFields)\n",
    "\n",
    "filter_prompt = PromptTemplate.from_template(\n",
    "    (\n",
    "        \"Based on the user query, extract the useful information to filter out properties from our database. \\n\"\n",
    "        \"User Query: `{query}`\\n\"\n",
    "        \"{format_instructions}\"\n",
    "    ),\n",
    "    partial_variables=dict(format_instructions=filter_parser.get_format_instructions())\n",
    ")\n",
    "\n",
    "\n",
    "filter_chain = filter_prompt | llm | filter_parser\n",
    "\n",
    "\n",
    "def generate_filter(state):\n",
    "    fl = filter_chain.invoke(dict(query=state['search_query']))\n",
    "    return dict(requirements_filter=fl)\n"
   ]
  },
  {
   "cell_type": "code",
   "execution_count": null,
   "id": "a9235532-5fbb-46a3-97ed-5378c52526db",
   "metadata": {},
   "outputs": [],
   "source": []
  },
  {
   "cell_type": "code",
   "execution_count": 8,
   "id": "56c45d79-0d1a-4fca-b436-800dd9972c90",
   "metadata": {},
   "outputs": [],
   "source": [
    "\n",
    "# requirement_filter = filter_chain.invoke(userQuery)"
   ]
  },
  {
   "cell_type": "code",
   "execution_count": 9,
   "id": "a0cde346-6208-4669-afd8-e4761c6a0865",
   "metadata": {},
   "outputs": [],
   "source": [
    "# requirement_filter"
   ]
  },
  {
   "cell_type": "code",
   "execution_count": 10,
   "id": "3248df04-1590-42f9-be85-7a398a5c059d",
   "metadata": {},
   "outputs": [],
   "source": [
    "from typing import List, Optional\n",
    "\n",
    "def filter_properties(state):\n",
    "    \n",
    "    criteria = state['requirements_filter']\n",
    "    filtered_properties = []\n",
    "    \n",
    "    for prop in obj_props:\n",
    "        # Check borough\n",
    "        if criteria.borough and prop.borough != criteria.borough:\n",
    "            continue\n",
    "        \n",
    "        # # Check ward\n",
    "        # if criteria.ward and prop.ward != criteria.ward:\n",
    "        #     continue\n",
    "        \n",
    "        # Check price range\n",
    "        if not (criteria.price_range.start_from <= prop.price <= criteria.price_range.end_in):\n",
    "            continue\n",
    "        \n",
    "        # Check bathrooms range\n",
    "        if not (criteria.bathrooms_range.start_from <= prop.bathrooms <= criteria.bathrooms_range.end_in):\n",
    "            continue\n",
    "        \n",
    "        # Check bedrooms range\n",
    "        if not (criteria.bedrooms_range.start_from <= prop.bedrooms <= criteria.bedrooms_range.end_in):\n",
    "            continue\n",
    "        \n",
    "        # Check nearest station distance if criteria are specified\n",
    "        if criteria.nearest_station_distance:\n",
    "            valid_distance = any(\n",
    "                station.distance <= criteria.nearest_station_distance.end_in and \n",
    "                station.distance >= criteria.nearest_station_distance.start_from\n",
    "                for station in prop.nearestStations\n",
    "            )\n",
    "            if not valid_distance:\n",
    "                continue\n",
    "        \n",
    "        # If all checks passed, add the property to the filtered list\n",
    "        filtered_properties.append(prop)\n",
    "    \n",
    "    state['filtered_properties'] = filtered_properties\n",
    "    return state\n",
    "# v = filter_properties(requirement_filter)\n",
    "# print(len(v))"
   ]
  },
  {
   "cell_type": "code",
   "execution_count": 19,
   "id": "1acca447-643c-4156-aa56-c808a801e0c7",
   "metadata": {},
   "outputs": [],
   "source": [
    "import difflib\n",
    "def sort_properties(state):\n",
    "    sortedV = sorted(\n",
    "        state['filtered_properties'], \n",
    "        key=\n",
    "            lambda z: \n",
    "                    difflib.SequenceMatcher(\n",
    "                        None, \n",
    "                        z.features+\" \"+z.description, \n",
    "                        state['requirements_filter'].special_qualities\n",
    "                            +\n",
    "                        state['requirements_filter'].property_description\n",
    "                    ).ratio(), \n",
    "                reverse=True\n",
    "            )\n",
    "    \n",
    "    state['filtered_properties'] = sortedV[:4]\n",
    "    return state\n",
    "\n",
    "\n",
    "def property_stringifyer(p):\n",
    "    # return f\"id: {p.id}\\ntitle: {p.title}\\ndescription: {p.description}\\nfeatures: {p.features}\\nlocation: {p.displayAddress}\\nPrice in Euro: {p.price} \\nBathrooms: {p.bathrooms} \\nBedrooms: {p.bedrooms} \"\n",
    "    return json.dumps(dict(id=p.id, title=p.title, description=p.description, features=p.features, location=p.displayAddress, price_in_euro=p.price, bathrooms=p.bathrooms, bedrooms=p.bedrooms))\n"
   ]
  },
  {
   "cell_type": "code",
   "execution_count": null,
   "id": "542f731a-a075-45a0-bbda-724ec5203a5b",
   "metadata": {},
   "outputs": [],
   "source": []
  },
  {
   "cell_type": "code",
   "execution_count": 34,
   "id": "bc40b454-dc7d-4eb4-a6d9-859ee2209283",
   "metadata": {},
   "outputs": [],
   "source": [
    "from consultation import consultation_app, consultation_workflow_invoker\n",
    "\n",
    "class ID_Extraction(BaseModel):\n",
    "    unique_id: int\n",
    "    reasoning: str\n",
    "id_extraction_parser = JsonOutputParser(pydantic_object=ID_Extraction)\n",
    "prompt = PromptTemplate.from_template(\n",
    "    \"From a piece of text below, extract unique id of best property and reasoning for suggesting that. \"\n",
    "    \"\\n```{outp}\\n```\\n\"\n",
    "    \"{format_instructions}\",\n",
    "    partial_variables=dict(format_instructions=id_extraction_parser.get_format_instructions()\n",
    "))\n",
    "id_extraction_chain = prompt | llm | id_extraction_parser\n",
    "\n",
    "def compare_properties(pair):\n",
    "    prop1, prop2, state = pair\n",
    "    req_filter = state['requirements_filter']\n",
    "    response = consultation_workflow_invoker(\n",
    "        property_stringifyer(prop1)\n",
    "        +\n",
    "        \"\\n\"\n",
    "        +\n",
    "        property_stringifyer(prop2)\n",
    "        +\n",
    "        \"\\n\\n\"\n",
    "        +\n",
    "        f\"The user's query is following: {str(req_filter)}. \"\n",
    "        \"Out of above two properties, help me out finding which is the better one for user. Make sure to give me the unique id of better one.  \\n\"\n",
    "    )\n",
    "    w = id_extraction_chain.invoke(dict(outp=response))\n",
    "    winner_id = w['unique_id']\n",
    "    winner_reasoning = w['reasoning']\n",
    "    state['winner_reasoning'] = winner_reasoning\n",
    "    return prop1 if int(prop1.id) == winner_id else prop2\n",
    "\n",
    "import concurrent.futures\n",
    "\n",
    "\n",
    "\n",
    "def parallel_compare_pairs(array, state):\n",
    "    # Create pairs from the array\n",
    "    pairs = [(array[i], array[i + 1], state) for i in range(0, len(array) - 1, 2)]\n",
    "    \n",
    "    # Use ThreadPoolExecutor to parallelize the comparison\n",
    "    with concurrent.futures.ThreadPoolExecutor() as executor:\n",
    "        winners = list(executor.map(compare_properties, pairs))\n",
    "    \n",
    "    return winners\n",
    "\n",
    "def find_winner(arr, compare_fn, state):\n",
    "    while len(arr) > 1:\n",
    "        # If the length is odd, append the last element as is\n",
    "        if len(arr) % 2 != 0:\n",
    "            arr.append(arr[-1])\n",
    "        \n",
    "        arr = parallel_compare_pairs(arr, state)\n",
    "    \n",
    "    return arr[0] if arr else None\n",
    "\n"
   ]
  },
  {
   "cell_type": "code",
   "execution_count": 35,
   "id": "0ecc72a7-f871-49d9-8e51-588361819716",
   "metadata": {},
   "outputs": [],
   "source": [
    "def winner_property_node(state):\n",
    "    filtered_props_torace = state['filtered_properties'].copy()\n",
    "    winner = find_winner(filtered_props_torace, compare_properties, state=state)\n",
    "    state['winner_property'] = winner\n",
    "    return state"
   ]
  },
  {
   "cell_type": "code",
   "execution_count": 36,
   "id": "03d989bd-ab2c-4637-afde-d7a672ae2b96",
   "metadata": {},
   "outputs": [],
   "source": [
    "\n",
    "\n",
    "from typing import TypedDict, List\n",
    "class SearchState(TypedDict):\n",
    "    search_query: str\n",
    "    requirements_filter: RequiredFields\n",
    "    filtered_properties: List\n",
    "    winner_property: Property\n",
    "    winner_reasoning: str\n",
    "\n",
    "workflow = StateGraph(SearchState)\n",
    "\n",
    "workflow.add_node(\"generate_filter\", generate_filter)\n",
    "workflow.add_edge(START, \"generate_filter\")\n",
    "\n",
    "workflow.add_node(\"filter_properties\", filter_properties)\n",
    "workflow.add_edge(\"generate_filter\",\"filter_properties\")\n",
    "\n",
    "\n",
    "workflow.add_node(\"sort_properties\", sort_properties)\n",
    "workflow.add_edge(\"filter_properties\", \"sort_properties\")\n",
    "\n",
    "\n",
    "workflow.add_node(\"winner_property_node\", winner_property_node)\n",
    "workflow.add_edge(\"sort_properties\", \"winner_property_node\")\n",
    "\n",
    "workflow.add_edge(\"winner_property_node\", END)\n",
    "\n",
    "search_app = workflow.compile()"
   ]
  },
  {
   "cell_type": "code",
   "execution_count": 40,
   "id": "c1fe4800-600c-42a1-8f7c-93ed22a2df4b",
   "metadata": {},
   "outputs": [
    {
     "name": "stderr",
     "output_type": "stream",
     "text": [
      "C:\\Users\\sarth\\anaconda3\\envs\\advisor\\Lib\\site-packages\\wikipedia\\wikipedia.py:389: GuessedAtParserWarning: No parser was explicitly specified, so I'm using the best available HTML parser for this system (\"html.parser\"). This usually isn't a problem, but if you run this code on another system, or in a different virtual environment, it may use a different parser and behave differently.\n",
      "\n",
      "The code that caused this warning is on line 389 of the file C:\\Users\\sarth\\anaconda3\\envs\\advisor\\Lib\\site-packages\\wikipedia\\wikipedia.py. To get rid of this warning, pass the additional argument 'features=\"html.parser\"' to the BeautifulSoup constructor.\n",
      "\n",
      "  lis = BeautifulSoup(html).find_all('li')\n",
      "C:\\Users\\sarth\\anaconda3\\envs\\advisor\\Lib\\site-packages\\wikipedia\\wikipedia.py:389: GuessedAtParserWarning: No parser was explicitly specified, so I'm using the best available HTML parser for this system (\"html.parser\"). This usually isn't a problem, but if you run this code on another system, or in a different virtual environment, it may use a different parser and behave differently.\n",
      "\n",
      "The code that caused this warning is on line 389 of the file C:\\Users\\sarth\\anaconda3\\envs\\advisor\\Lib\\site-packages\\wikipedia\\wikipedia.py. To get rid of this warning, pass the additional argument 'features=\"html.parser\"' to the BeautifulSoup constructor.\n",
      "\n",
      "  lis = BeautifulSoup(html).find_all('li')\n"
     ]
    }
   ],
   "source": [
    "userQuery = \"I need an apartment,  price below 3000 euros per month, in westminister in london. it should be beautifully well furnished. \"\n",
    "\n",
    "def search_workflow_invoker(query):\n",
    "    res = search_app.invoke(dict(\n",
    "        search_query=userQuery,\n",
    "        filtered_properties=[]\n",
    "    ))\n",
    "    return res"
   ]
  },
  {
   "cell_type": "code",
   "execution_count": 45,
   "id": "30e45201-ad6d-452b-98ff-1b898636a859",
   "metadata": {},
   "outputs": [
    {
     "data": {
      "text/plain": [
       "Property(id=150281894, url='https://www.rightmove.co.uk/properties/150281894#/?channel=RES_LET', title='1 bedroom flat for rent in Millbank Westminster SW1P', displayAddress='Millbank Westminster SW1P', bathrooms=1, bedrooms=1, propertyType='Flat', price=2400, features='One Double Bedroom | One Bathroom | Fully Furnished | Communal Gardens | Day Porter | Pimlico Underground Station (300m)', description='A spacious lower ground floor apartment by the River Thames only 300m from Pimlico Underground Station (Victoria Line).  The property comprises one double bedroom, bathroom with shower, modern fitted kitchen, security alarm and access to the well maintained communal garden to the rear. To check broadband and mobile phone coverage please visit Ofcom here ofcom.org.uk/phones-telecoms-and-internet/advice-for-consumers/advice/ofcom-checker', nearestStations=[Station(name='Pimlico Station', distance=0.2116350219089902, unit='miles'), Station(name='Vauxhall Station', distance=0.3736264220090981, unit='miles'), Station(name='Nine Elms Station', distance=0.6475476791005959, unit='miles')], borough='Westminster', ward='Millbank')"
      ]
     },
     "execution_count": 45,
     "metadata": {},
     "output_type": "execute_result"
    }
   ],
   "source": [
    "res['winner_property']"
   ]
  },
  {
   "cell_type": "code",
   "execution_count": 13,
   "id": "7929b0dd-f391-4f59-ba08-be9b6700f3bd",
   "metadata": {},
   "outputs": [],
   "source": []
  },
  {
   "cell_type": "code",
   "execution_count": null,
   "id": "3fb6dc8e-e3ae-4d73-b7bb-af63126ec4ee",
   "metadata": {},
   "outputs": [],
   "source": []
  },
  {
   "cell_type": "code",
   "execution_count": null,
   "id": "6df0e697-413e-4305-a954-e59161e2cc3b",
   "metadata": {},
   "outputs": [],
   "source": []
  },
  {
   "cell_type": "code",
   "execution_count": null,
   "id": "cabefc19-87ae-44d1-a7c3-b1d793d0513f",
   "metadata": {},
   "outputs": [],
   "source": []
  }
 ],
 "metadata": {
  "kernelspec": {
   "display_name": "Python 3 (ipykernel)",
   "language": "python",
   "name": "python3"
  },
  "language_info": {
   "codemirror_mode": {
    "name": "ipython",
    "version": 3
   },
   "file_extension": ".py",
   "mimetype": "text/x-python",
   "name": "python",
   "nbconvert_exporter": "python",
   "pygments_lexer": "ipython3",
   "version": "3.12.4"
  }
 },
 "nbformat": 4,
 "nbformat_minor": 5
}
