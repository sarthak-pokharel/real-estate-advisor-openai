{
 "cells": [
  {
   "cell_type": "code",
   "execution_count": 1,
   "id": "d1758165-40d5-4816-a766-6492b0cb054e",
   "metadata": {},
   "outputs": [
    {
     "data": {
      "text/plain": [
       "True"
      ]
     },
     "execution_count": 1,
     "metadata": {},
     "output_type": "execute_result"
    }
   ],
   "source": [
    "import dotenv\n",
    "dotenv.load_dotenv()"
   ]
  },
  {
   "cell_type": "code",
   "execution_count": 2,
   "id": "f5659051-b678-4783-9be7-576dc4a68be4",
   "metadata": {},
   "outputs": [],
   "source": [
    "from langchain.utilities.tavily_search import TavilySearchAPIWrapper\n",
    "from langchain.tools.tavily_search import TavilySearchResults\n",
    "\n",
    "tavily_tool = TavilySearchResults(api_wrapper=TavilySearchAPIWrapper())\n",
    "\n",
    "\n",
    "from langchain_community.tools import WikipediaQueryRun\n",
    "from langchain_community.utilities import WikipediaAPIWrapper\n",
    "\n",
    "wikipedia = WikipediaQueryRun(api_wrapper=WikipediaAPIWrapper())\n",
    "\n",
    "\n",
    "\n",
    "available_tools = [tavily_tool, wikipedia]\n",
    "\n",
    "\n",
    "\n",
    "\n"
   ]
  },
  {
   "cell_type": "code",
   "execution_count": 10,
   "id": "4259efb8-b7f6-4673-90f5-4026d01d23a3",
   "metadata": {},
   "outputs": [],
   "source": [
    "properties_dataset_path = \"datasets/apify_rightmove_london_properties.pkl\""
   ]
  },
  {
   "cell_type": "code",
   "execution_count": 171,
   "id": "b82cdad5-c328-44f7-9bae-fde10514c6cf",
   "metadata": {},
   "outputs": [
    {
     "data": {
      "text/plain": [
       "['tenure',\n",
       " 'type',\n",
       " 'url',\n",
       " 'propertyType',\n",
       " 'nearestStations',\n",
       " 'sizeSqFeetMin',\n",
       " 'sizeSqFeetMax',\n",
       " 'displayAddress',\n",
       " 'bathrooms',\n",
       " 'bedrooms',\n",
       " 'description',\n",
       " 'title',\n",
       " 'addedOn',\n",
       " 'features',\n",
       " 'id',\n",
       " 'price']"
      ]
     },
     "execution_count": 171,
     "metadata": {},
     "output_type": "execute_result"
    }
   ],
   "source": [
    "import pickle as pkl\n",
    "\n",
    "properties_dataset = pkl.load(open(properties_dataset_path,'rb'))\n",
    "\n",
    "\n",
    "irrelevant_keys = \"descriptionHtml archived tags epc published sold floorplans brochures agentDescriptionHtml agentListingsUrl agentProfileUrl images yearsRemainingOnLease secondaryPrice coordinates councilTaxIncluded annualServiceCharge councilTaxBand domesticRates groundRentPercentageIncrease groundRentReviewPeriodInYears annualGroundRent councilTaxExempt agentDisplayAddress agentLogo agentPhone agent deliveryPointId countryCode deliveryPointId ukCountry outcode incode\".split(' ')\n",
    "for prop in properties_dataset:\n",
    "    for r in irrelevant_keys:\n",
    "        if r in prop:\n",
    "            del prop[r]\n",
    "    prop['price'] = int(prop['price'][1:].replace(',',''))\n",
    "    prop['propertyType'] = prop['propertyType'].lower()\n",
    "\n",
    "\n",
    "keys = []\n",
    "for prop in properties_dataset:\n",
    "    keys+=prop.keys()\n",
    "keys = list(set(keys))\n",
    "keys"
   ]
  },
  {
   "cell_type": "code",
   "execution_count": 181,
   "id": "d013a307-a815-4440-867e-f60634c28ef7",
   "metadata": {},
   "outputs": [
    {
     "data": {
      "text/plain": [
       "{'id': '142894421',\n",
       " 'url': 'https://www.rightmove.co.uk/properties/142894421#/?channel=RES_BUY',\n",
       " 'title': '6 bedroom house for sale in Princes Gate, London, SW7',\n",
       " 'displayAddress': 'Princes Gate, London, SW7',\n",
       " 'bathrooms': 7,\n",
       " 'bedrooms': 6,\n",
       " 'propertyType': 'house',\n",
       " 'price': 29500000,\n",
       " 'type': 'sale',\n",
       " 'description': \"United Kingdom Sotheby's International Realty is proud to present this exceptional Grade II-listed house that spans an impressive 9,430 sq. ft in South Kensington. With its beautiful stucco façade, the exterior of the building echoes the grandeur beyond. Unfolding over five floors, the house includes a wonderfully planned lower-ground floor and a contemporary loft space.\\n\\nEntry is to the ground floor, with a large dual-aspect reception room on the left; this room can be separated into a living space and study by neat bi-fold doors as required. At the back of the plan is another sitting room, which overlooks the terrace and has beautifully bespoke cabinetry.\\n\\nOn the lower ground floor, there is a more casual sitting room and a dining room; at the back of the house is a kitchen and breakfast room centred around a large island' and a utility room lies behind this.\\n\\nOn the first floor sits a grand drawing room and a separate library with a large bay window, while the entire second floor is given over to the principal bedroom suite. The suite includes a generous bedroom, an expansive walk-in dressing room with custom-built joinery and a large bathroom. The other five bedrooms are dotted throughout the third and fourth floors, three of which are ensuite. On the top floor, the space has been transformed into a contemporary gallery, but could easily be converted into another bedroom or reception room.\\n\\nThe house is crowned by a large roof terrace, which has far-reaching views over the rooftops of Kensington and the Royal Albert Hall. Lying on Exhibition Road in South Kensington, the house is a short walk from the Royal Albert Hall, as well as the museums that make South Kensington so famous. Also nearby are some of London's best restaurants and shops and travel links into the rest of London are excellent.\",\n",
       " 'features': ['Built in Kitchen Appliances',\n",
       "  'Listed Building',\n",
       "  'Utility Room',\n",
       "  'Wooden Floors'],\n",
       " 'tenure': 'FREEHOLD',\n",
       " 'nearestStations': [{'name': 'South Kensington Station',\n",
       "   'types': ['LONDON_UNDERGROUND'],\n",
       "   'distance': 0.4231841239755683,\n",
       "   'unit': 'miles'},\n",
       "  {'name': 'Gloucester Road Station',\n",
       "   'types': ['LONDON_UNDERGROUND'],\n",
       "   'distance': 0.5455042024519262,\n",
       "   'unit': 'miles'},\n",
       "  {'name': 'Knightsbridge Station',\n",
       "   'types': ['LONDON_UNDERGROUND'],\n",
       "   'distance': 0.5789106090437922,\n",
       "   'unit': 'miles'}],\n",
       " 'addedOn': '13/12/2023',\n",
       " 'sizeSqFeetMin': 9050,\n",
       " 'sizeSqFeetMax': 9050}"
      ]
     },
     "execution_count": 181,
     "metadata": {},
     "output_type": "execute_result"
    }
   ],
   "source": [
    "from langchain_core.pydantic_v1 import BaseModel, Field\n",
    "from typing import List\n",
    "class NearestStation(BaseModel):\n",
    "    name: str = Field()\n",
    "    distance: float = Field(description=\"Distance in miles\")\n",
    "\n",
    "class PropertyInfo(BaseModel):\n",
    "    tenture: str = Field(description=\"Tenture Type/Duration\")\n",
    "    type: str = Field(description=\"Sales or Rental\")\n",
    "    url: str = Field(description=\"Url of property\")\n",
    "    nearestStations: List[NearestStation] = Field(description=\"Nearest available stations\")\n",
    "    bathrooms: int = Field(description=\"Number of bathrooms\")\n",
    "    bedrooms: int = Field(description=\"Number of Bedrooms\")\n",
    "    description: int = Field(description=\"Description of property\")\n",
    "    features: List[str] = Field(description=\"Features of Property\")\n",
    "    price: int = Field(\"Price of property in euro\")\n",
    "\n",
    "\n",
    "class OutputFormat(BaseModel):\n",
    "    executable_fn: str = Field(description=\"lambda function in python to run in repl and store the function in a string\"\n",
    "\n",
    "desc_dem = properties_dataset[0]\n",
    "desc_dem"
   ]
  },
  {
   "cell_type": "code",
   "execution_count": 177,
   "id": "82840514-aa0f-4564-8948-8a26f634a759",
   "metadata": {},
   "outputs": [],
   "source": [
    "from langchain_openai import ChatOpenAI\n",
    "\n",
    "llm = ChatOpenAI(temperature=0)"
   ]
  },
  {
   "cell_type": "code",
   "execution_count": 186,
   "id": "feda7f2d-1909-452a-a284-5cab7c57f32f",
   "metadata": {},
   "outputs": [
    {
     "name": "stdout",
     "output_type": "stream",
     "text": [
      "```python\n",
      "lambda property: property[\"type\"] == \"House\" and property[\"bedrooms\"] >= 2 and property[\"price\"] > 20000 and any(station[\"distance\"] <= 0.5 for station in property[\"nearestStations\"])\n",
      "```\n"
     ]
    }
   ],
   "source": [
    "from langchain_core.prompts import PromptTemplate\n",
    "\n",
    "\n",
    "from langchain.output_parsers import PydanticOutputParser\n",
    "\n",
    "\n",
    "\n",
    "parser = PydanticOutputParser(pydantic_object=PropertyInfo)\n",
    "schema = parser.get_format_instructions().split(\"Here is the output schema:\")[1].strip()[3:][:-3].strip()\n",
    "\n",
    "template = (\n",
    "    \"We've a list of real estate properties in london information in a list of dictionaries in python in the following schema/format\"\n",
    "    \"{formatt}\\n\"\n",
    "    \"Based on user query, generate a lambda function which will be iterated through the list to filter out the best property match for user\"\n",
    "    \"The user query is following: \\n\"\n",
    "    \"{query}\\n\"\n",
    "    \"\"\n",
    ")\n",
    "prompt = PromptTemplate.from_template(template, partial_variables=dict(formatt=parser.get_format_instructions()))\n",
    "chain = prompt | llm \n",
    "res = chain.invoke(dict(query=\"I need a house in london with minimum of 2 bedrooms and price above 20k euros. make sure the nearest station is at least half a mile near\")).content\n",
    "print(res)"
   ]
  },
  {
   "cell_type": "code",
   "execution_count": 191,
   "id": "8f0af226-8a26-4bf6-ba81-e9c3e2255892",
   "metadata": {},
   "outputs": [
    {
     "data": {
      "text/plain": [
       "'{\"title\": \"PydanticOutputParser\", \"description\": \"Parse an output using a pydantic model.\", \"type\": \"object\", \"properties\": {\"name\": {\"title\": \"Name\", \"type\": \"string\"}, \"diff\": {\"title\": \"Diff\", \"default\": false, \"type\": \"boolean\"}, \"pydantic_object\": {\"title\": \"Pydantic Object\"}}, \"required\": [\"pydantic_object\"]}'"
      ]
     },
     "execution_count": 191,
     "metadata": {},
     "output_type": "execute_result"
    }
   ],
   "source": [
    "parser.get_format_instructions()"
   ]
  },
  {
   "cell_type": "code",
   "execution_count": 216,
   "id": "dec1e526-724f-43d1-b9b3-a1c22c835c06",
   "metadata": {},
   "outputs": [
    {
     "data": {
      "text/plain": [
       "'{\"properties\": {\"tenture\": {\"title\": \"Tenture\", \"description\": \"Tenture Type/Duration\", \"type\": \"string\"}, \"type\": {\"title\": \"Type\", \"description\": \"Sales or Rental\", \"type\": \"string\"}, \"url\": {\"title\": \"Url\", \"description\": \"Url of property\", \"type\": \"string\"}, \"nearestStations\": {\"title\": \"Neareststations\", \"description\": \"Nearest available stations\", \"type\": \"array\", \"items\": {\"$ref\": \"#/definitions/NearestStation\"}}, \"bathrooms\": {\"title\": \"Bathrooms\", \"description\": \"Number of bathrooms\", \"type\": \"integer\"}, \"bedrooms\": {\"title\": \"Bedrooms\", \"description\": \"Number of Bedrooms\", \"type\": \"integer\"}, \"description\": {\"title\": \"Description\", \"description\": \"Description of property\", \"type\": \"integer\"}, \"features\": {\"title\": \"Features\", \"description\": \"Features of Property\", \"type\": \"array\", \"items\": {\"type\": \"string\"}}, \"price\": {\"title\": \"Price\", \"default\": \"Price of property in euro\", \"type\": \"integer\"}}, \"required\": [\"tenture\", \"type\", \"url\", \"nearestStations\", \"bathrooms\", \"bedrooms\", \"description\", \"features\"], \"definitions\": {\"NearestStation\": {\"title\": \"NearestStation\", \"type\": \"object\", \"properties\": {\"name\": {\"title\": \"Name\", \"type\": \"string\"}, \"distance\": {\"title\": \"Distance\", \"description\": \"Distance in miles\", \"type\": \"number\"}}, \"required\": [\"name\", \"distance\"]}}}'"
      ]
     },
     "execution_count": 216,
     "metadata": {},
     "output_type": "execute_result"
    }
   ],
   "source": []
  },
  {
   "cell_type": "code",
   "execution_count": null,
   "id": "7a2a968d-fd9c-4606-ae30-1feea39d8198",
   "metadata": {},
   "outputs": [],
   "source": []
  }
 ],
 "metadata": {
  "kernelspec": {
   "display_name": "Python 3 (ipykernel)",
   "language": "python",
   "name": "python3"
  },
  "language_info": {
   "codemirror_mode": {
    "name": "ipython",
    "version": 3
   },
   "file_extension": ".py",
   "mimetype": "text/x-python",
   "name": "python",
   "nbconvert_exporter": "python",
   "pygments_lexer": "ipython3",
   "version": "3.12.4"
  }
 },
 "nbformat": 4,
 "nbformat_minor": 5
}
