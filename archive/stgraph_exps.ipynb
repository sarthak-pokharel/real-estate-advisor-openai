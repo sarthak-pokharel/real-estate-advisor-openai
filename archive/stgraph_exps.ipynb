{
 "cells": [
  {
   "cell_type": "code",
   "execution_count": 79,
   "id": "f6db90ec-e1c5-4409-9276-a84d81076be6",
   "metadata": {},
   "outputs": [
    {
     "data": {
      "text/plain": [
       "True"
      ]
     },
     "execution_count": 79,
     "metadata": {},
     "output_type": "execute_result"
    }
   ],
   "source": [
    "import dotenv\n",
    "dotenv.load_dotenv()"
   ]
  },
  {
   "cell_type": "code",
   "execution_count": null,
   "id": "cd2f5355-b6ca-4cf5-8437-8cc3c663a067",
   "metadata": {},
   "outputs": [],
   "source": []
  },
  {
   "cell_type": "code",
   "execution_count": 80,
   "id": "e5e586d5-1141-4b3d-8765-9fd1ed61fb90",
   "metadata": {},
   "outputs": [],
   "source": [
    "from langchain_openai import ChatOpenAI\n",
    "\n",
    "llm = ChatOpenAI()\n"
   ]
  },
  {
   "cell_type": "code",
   "execution_count": null,
   "id": "1890cce4-b3ff-42a9-837f-8b31aaf95854",
   "metadata": {},
   "outputs": [],
   "source": []
  },
  {
   "cell_type": "code",
   "execution_count": null,
   "id": "f79b777d-1cb2-4e2a-ba4a-70fdbbf3d316",
   "metadata": {},
   "outputs": [],
   "source": []
  },
  {
   "cell_type": "code",
   "execution_count": 123,
   "id": "eff2e673-eef4-4fd2-aae8-a86d0f0eb53e",
   "metadata": {},
   "outputs": [],
   "source": [
    "def hello(state):\n",
    "    return {'count': state.get('count')+1}\n",
    "def hi(state):\n",
    "    return {'count': state.get('count')+1}\n",
    "def yo(state):\n",
    "    return {'count': state.get('count')+1}"
   ]
  },
  {
   "cell_type": "code",
   "execution_count": 138,
   "id": "0077b190-43d6-4552-8a86-0218e3602841",
   "metadata": {},
   "outputs": [],
   "source": [
    "\n",
    "from langgraph.graph import StateGraph,MessagesState, START, END\n",
    "from typing import TypedDict\n",
    "\n",
    "class MyState(TypedDict):\n",
    "    count:None\n",
    "    pass"
   ]
  },
  {
   "cell_type": "code",
   "execution_count": 169,
   "id": "477c0f8c-ecd8-4773-a555-a2ee5f935115",
   "metadata": {},
   "outputs": [],
   "source": [
    "import random\n",
    "workflow = StateGraph(MyState)\n",
    "workflow.add_node(\"hello\", hello)\n",
    "workflow.add_node(\"hi\", hi)\n",
    "workflow.add_node(\"yo\", yo)\n",
    "\n",
    "workflow.add_edge(START, \"hello\")\n",
    "workflow.add_edge(\"hello\", \"hi\")\n",
    "# workflow.add_edge(\"hi\", \"yo\")\n",
    "\n",
    "workflow.add_conditional_edges(\"hi\", lambda x: \"gotoyo\"if random.randint(0,100)%5 == 0 else \"gotohello\", dict(gotoyo='yo', gotohello='hello'))\n",
    "workflow.add_edge(\"yo\", END)\n",
    "\n",
    "app = workflow.compile()"
   ]
  },
  {
   "cell_type": "code",
   "execution_count": null,
   "id": "81ee0b3b-fcf2-4174-b637-b52f9bc858b1",
   "metadata": {},
   "outputs": [],
   "source": []
  },
  {
   "cell_type": "code",
   "execution_count": 170,
   "id": "d2f4b626-7a71-4f90-ab41-40e9944acd59",
   "metadata": {},
   "outputs": [
    {
     "data": {
      "text/plain": [
       "{'count': 12}"
      ]
     },
     "execution_count": 170,
     "metadata": {},
     "output_type": "execute_result"
    }
   ],
   "source": [
    "app.invoke(input=dict(count=1), config=dict(recursion_limit=50))"
   ]
  },
  {
   "cell_type": "code",
   "execution_count": null,
   "id": "cbdf80d5-0417-48e2-a311-0bd39156bd58",
   "metadata": {},
   "outputs": [],
   "source": []
  },
  {
   "cell_type": "code",
   "execution_count": 134,
   "id": "237a29e2-6e4a-4ad2-9ba2-57ed6999a4e7",
   "metadata": {},
   "outputs": [
    {
     "data": {
      "image/jpeg": "[encoded data removed]",
      "text/plain": [
       "<IPython.core.display.Image object>"
      ]
     },
     "metadata": {},
     "output_type": "display_data"
    }
   ],
   "source": [
    "from IPython.display import Image, display\n",
    "\n",
    "display(Image(app.get_graph(xray=True).draw_mermaid_png()))"
   ]
  },
  {
   "cell_type": "code",
   "execution_count": null,
   "id": "1f05d15a-b861-4cf0-a4a6-2a3b23c8d6a6",
   "metadata": {},
   "outputs": [],
   "source": []
  },
  {
   "cell_type": "code",
   "execution_count": null,
   "id": "52f1adff-9ca4-40c3-97c7-8dd4b4cc8e05",
   "metadata": {},
   "outputs": [],
   "source": []
  }
 ],
 "metadata": {
  "kernelspec": {
   "display_name": "Python 3 (ipykernel)",
   "language": "python",
   "name": "python3"
  },
  "language_info": {
   "codemirror_mode": {
    "name": "ipython",
    "version": 3
   },
   "file_extension": ".py",
   "mimetype": "text/x-python",
   "name": "python",
   "nbconvert_exporter": "python",
   "pygments_lexer": "ipython3",
   "version": "3.12.4"
  }
 },
 "nbformat": 4,
 "nbformat_minor": 5
}
