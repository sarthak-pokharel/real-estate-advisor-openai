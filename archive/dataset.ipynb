{
 "cells": [
  {
   "cell_type": "code",
   "execution_count": 21,
   "id": "dde5e0c4-22aa-4f94-a851-d6c2b4362191",
   "metadata": {},
   "outputs": [],
   "source": [
    "\n",
    "\n",
    "import requests\n",
    "import json\n",
    "import pickle"
   ]
  },
  {
   "cell_type": "code",
   "execution_count": 40,
   "id": "a9bdfad8-5022-429f-bc0a-15aeda881d66",
   "metadata": {},
   "outputs": [],
   "source": [
    "def update_data():\n",
    "    print(\"data loading\")\n",
    "    data = requests.get(\"https://api.apify.com/v2/datasets/jLbMKbkqtk39CGOzh/items?clean=true&format=json\")\n",
    "    print(\"data loaded\")\n",
    "    data_parsed = json.loads(data.text)\n",
    "    print(len(data_parsed))\n",
    "    pickle.dump(data_parsed, open(\"datasets/apify_rightmove_london_properties.pkl\",'wb'))"
   ]
  },
  {
   "cell_type": "code",
   "execution_count": 41,
   "id": "01a627e9-5238-4898-b2a6-e3d1eb11e3cc",
   "metadata": {},
   "outputs": [
    {
     "name": "stdout",
     "output_type": "stream",
     "text": [
      "data loading\n",
      "data loaded\n",
      "1035\n"
     ]
    }
   ],
   "source": [
    "update_data()"
   ]
  },
  {
   "cell_type": "code",
   "execution_count": 42,
   "id": "e2a61650-b02b-41ba-9bb7-1112f9705f30",
   "metadata": {},
   "outputs": [],
   "source": [
    "def load_local_data():\n",
    "    return pickle.load(open(\"datasets/apify_rightmove_london_properties.pkl\",'rb'))"
   ]
  },
  {
   "cell_type": "code",
   "execution_count": 43,
   "id": "6ed19a79-7b38-49a8-bec5-ac0028121fea",
   "metadata": {},
   "outputs": [],
   "source": [
    "da = load_local_data()"
   ]
  },
  {
   "cell_type": "code",
   "execution_count": 44,
   "id": "88c2665c-d0ea-4a24-a5a6-9b6567bbee35",
   "metadata": {
    "scrolled": true
   },
   "outputs": [
    {
     "data": {
      "text/plain": [
       "{'id': '147597551',\n",
       " 'url': 'https://www.rightmove.co.uk/properties/147597551#/?channel=RES_BUY',\n",
       " 'title': '6 bedroom town house for sale in Oakley Street, London, SW3',\n",
       " 'displayAddress': 'Oakley Street, London, SW3',\n",
       " 'countryCode': 'GB',\n",
       " 'deliveryPointId': 78197041,\n",
       " 'ukCountry': 'England',\n",
       " 'outcode': 'SW3',\n",
       " 'incode': '5HB',\n",
       " 'bathrooms': 6,\n",
       " 'bedrooms': 6,\n",
       " 'agent': \"United Kingdom Sotheby's International Realty (GPM Principal Branch), Mayfair\",\n",
       " 'agentPhone': '020 3835 2136',\n",
       " 'agentLogo': 'https://media.rightmove.co.uk/63k/62080/branch_logo_62080_3.jpg',\n",
       " 'agentDisplayAddress': '48 Conduit Street,\\r\\nMayfair,\\r\\nLondon,\\r\\nW1S 2YR',\n",
       " 'propertyType': 'Town House',\n",
       " 'price': '£6,500,000',\n",
       " 'secondaryPrice': None,\n",
       " 'coordinates': {'latitude': 51.48411, 'longitude': -0.16748},\n",
       " 'type': 'sale',\n",
       " 'councilTaxExempt': False,\n",
       " 'councilTaxIncluded': False,\n",
       " 'annualGroundRent': None,\n",
       " 'groundRentReviewPeriodInYears': None,\n",
       " 'groundRentPercentageIncrease': None,\n",
       " 'annualServiceCharge': None,\n",
       " 'councilTaxBand': None,\n",
       " 'domesticRates': None,\n",
       " 'description': \"As well as its superb location just steps from the river in Chelsea, this unique family home stands out in the market thanks to its exceptional renovations that were completed in 2022. It is also incredibly well looked after with weekly maintenance to ensure it stays in pristine condition. The house has a well-designed layout with two generous reception rooms that have high ceilings and fireplaces. The interior also includes two modern kitchens with integrated appliances and a bar, a separate dining room and breakfast area, six bedrooms with fitted wardrobes and six bathrooms. The home also has an outdoor decked balcony terrace and a private garden with a fantastic Wendy House that children will completely fall in love with.\\n\\nOakley Street enjoys one of the best locations in Chelesa, running between the River Thames and Prince Albert Bridge and the elite King's Road, one of the most well-known streets in prime central London. It is the ideal location to experience the best of the capital, from its restaurants to its shops, its cultural attractions to its leisure venues and even its excellent schools and green spaces.\",\n",
       " 'descriptionHtml': \"As well as its superb location just steps from the river in Chelsea, this unique family home stands out in the market thanks to its exceptional renovations that were completed in 2022. It is also incredibly well looked after with weekly maintenance to ensure it stays in pristine condition. The house has a well-designed layout with two generous reception rooms that have high ceilings and fireplaces. The interior also includes two modern kitchens with integrated appliances and a bar, a separate dining room and breakfast area, six bedrooms with fitted wardrobes and six bathrooms. The home also has an outdoor decked balcony terrace and a private garden with a fantastic Wendy House that children will completely fall in love with.\\r<br />\\r<br />Oakley Street enjoys one of the best locations in Chelesa, running between the River Thames and Prince Albert Bridge and the elite King's Road, one of the most well-known streets in prime central London. It is the ideal location to experience the best of the capital, from its restaurants to its shops, its cultural attractions to its leisure venues and even its excellent schools and green spaces.\",\n",
       " 'features': ['Built in Kitchen',\n",
       "  'Grand Hall',\n",
       "  'Modern FInishings ',\n",
       "  'Walk-in Closet'],\n",
       " 'tenure': 'FREEHOLD',\n",
       " 'yearsRemainingOnLease': None,\n",
       " 'images': ['https://media.rightmove.co.uk/63k/62080/147597551/62080_UK-S-42601_IMG_00_0000.jpeg',\n",
       "  'https://media.rightmove.co.uk/63k/62080/147597551/62080_UK-S-42601_IMG_01_0000.jpeg',\n",
       "  'https://media.rightmove.co.uk/63k/62080/147597551/62080_UK-S-42601_IMG_02_0000.jpeg',\n",
       "  'https://media.rightmove.co.uk/63k/62080/147597551/62080_UK-S-42601_IMG_03_0000.jpeg',\n",
       "  'https://media.rightmove.co.uk/63k/62080/147597551/62080_UK-S-42601_IMG_04_0000.jpeg',\n",
       "  'https://media.rightmove.co.uk/63k/62080/147597551/62080_UK-S-42601_IMG_05_0000.jpeg',\n",
       "  'https://media.rightmove.co.uk/63k/62080/147597551/62080_UK-S-42601_IMG_06_0000.jpeg',\n",
       "  'https://media.rightmove.co.uk/63k/62080/147597551/62080_UK-S-42601_IMG_07_0000.jpeg',\n",
       "  'https://media.rightmove.co.uk/63k/62080/147597551/62080_UK-S-42601_IMG_08_0000.jpeg',\n",
       "  'https://media.rightmove.co.uk/63k/62080/147597551/62080_UK-S-42601_IMG_09_0000.jpeg',\n",
       "  'https://media.rightmove.co.uk/63k/62080/147597551/62080_UK-S-42601_IMG_10_0000.jpeg',\n",
       "  'https://media.rightmove.co.uk/63k/62080/147597551/62080_UK-S-42601_IMG_11_0000.jpeg',\n",
       "  'https://media.rightmove.co.uk/63k/62080/147597551/62080_UK-S-42601_IMG_12_0000.jpeg',\n",
       "  'https://media.rightmove.co.uk/63k/62080/147597551/62080_UK-S-42601_IMG_13_0000.jpeg',\n",
       "  'https://media.rightmove.co.uk/63k/62080/147597551/62080_UK-S-42601_IMG_14_0000.jpeg',\n",
       "  'https://media.rightmove.co.uk/63k/62080/147597551/62080_UK-S-42601_IMG_15_0000.jpeg',\n",
       "  'https://media.rightmove.co.uk/63k/62080/147597551/62080_UK-S-42601_IMG_16_0000.jpeg',\n",
       "  'https://media.rightmove.co.uk/63k/62080/147597551/62080_UK-S-42601_IMG_17_0000.jpeg',\n",
       "  'https://media.rightmove.co.uk/63k/62080/147597551/62080_UK-S-42601_IMG_18_0000.jpeg',\n",
       "  'https://media.rightmove.co.uk/63k/62080/147597551/62080_UK-S-42601_IMG_19_0000.jpeg',\n",
       "  'https://media.rightmove.co.uk/63k/62080/147597551/62080_UK-S-42601_IMG_20_0000.jpeg',\n",
       "  'https://media.rightmove.co.uk/63k/62080/147597551/62080_UK-S-42601_IMG_21_0000.jpeg',\n",
       "  'https://media.rightmove.co.uk/63k/62080/147597551/62080_UK-S-42601_IMG_22_0000.jpeg',\n",
       "  'https://media.rightmove.co.uk/63k/62080/147597551/62080_UK-S-42601_IMG_23_0000.jpeg',\n",
       "  'https://media.rightmove.co.uk/63k/62080/147597551/62080_UK-S-42601_IMG_24_0000.jpeg',\n",
       "  'https://media.rightmove.co.uk/63k/62080/147597551/62080_UK-S-42601_IMG_25_0000.jpeg',\n",
       "  'https://media.rightmove.co.uk/63k/62080/147597551/62080_UK-S-42601_IMG_26_0000.jpeg',\n",
       "  'https://media.rightmove.co.uk/63k/62080/147597551/62080_UK-S-42601_IMG_27_0000.jpeg',\n",
       "  'https://media.rightmove.co.uk/63k/62080/147597551/62080_UK-S-42601_IMG_28_0000.jpeg'],\n",
       " 'brochures': [],\n",
       " 'floorplans': [{'url': 'https://media.rightmove.co.uk/63k/62080/147597551/62080_UK-S-42601_FLP_00_0000.jpeg',\n",
       "   'caption': 'Floorplan 1',\n",
       "   'type': 'IMAGE',\n",
       "   'resizedFloorplanUrls': {'size296x197': 'https://media.rightmove.co.uk/dir/63k/62080/147597551/62080_UK-S-42601_FLP_00_0000_max_296x197.jpeg'}}],\n",
       " 'nearestStations': [{'name': 'Sloane Square Station',\n",
       "   'types': ['LONDON_UNDERGROUND'],\n",
       "   'distance': 0.734016801237816,\n",
       "   'unit': 'miles'},\n",
       "  {'name': 'South Kensington Station',\n",
       "   'types': ['LONDON_UNDERGROUND'],\n",
       "   'distance': 0.7344059618901825,\n",
       "   'unit': 'miles'},\n",
       "  {'name': 'Imperial Wharf Station',\n",
       "   'types': ['NATIONAL_TRAIN'],\n",
       "   'distance': 0.9189183704996607,\n",
       "   'unit': 'miles'}],\n",
       " 'epc': 'https://media.rightmove.co.uk/63k/62080/147597551/62080_UK-S-42601_EPC_00_0000.jpeg',\n",
       " 'published': True,\n",
       " 'archived': False,\n",
       " 'sold': False,\n",
       " 'tags': [],\n",
       " 'agentProfileUrl': 'https://www.rightmove.co.uk//estate-agents/agent/United-Kingdom-Sothebys-International-Realty-GPM-Principal-Branch/Mayfair-62080.html',\n",
       " 'agentListingsUrl': 'https://www.rightmove.co.uk//property-for-sale/find/United-Kingdom-Sothebys-International-Realty-GPM-Principal-Branch/Mayfair.html?locationIdentifier=BRANCH%5E62080&includeSSTC=true&_includeSSTC=on',\n",
       " 'agentDescriptionHtml': \"<b>London Sales</b><br><p>Whether you're embarking on your maiden property venture, seeking the perfect investment opportunity as a landlord, a globe-trotting enthusiast in pursuit of a London pied-à-terre, or a new parent on the quest for the perfect family home, UK Sotheby's International Realty is your trusted partner. We specialise in selling and letting properties across the entire spectrum of the market.</p><p>Our team has some of the industry's most seasoned local area experts, ensuring you have a dedicated point of contact throughout your journey. With an extensive network of international agents and desks, we serve as your gateway to the global property market.</p><p>The collective expertise of our team is unmatched, and our global reach is unparalleled, with a presence in 72 countries and 970 offices worldwide, all working in concert to bring your property to a global audience. Our track record speaks volumes, with £1 billion in annual value generated from 1,410 successful closed referrals, demonstrating our commitment to making our network work for you.</p><p>At Sotheby's International Realty, we create an environment of excellence in which you can confidently sell, purchase, let, invest in, and manage your property.</p>\",\n",
       " 'addedOn': 'Reduced on 08/07/2024',\n",
       " 'sizeSqFeetMin': 3903,\n",
       " 'sizeSqFeetMax': 3903}"
      ]
     },
     "execution_count": 44,
     "metadata": {},
     "output_type": "execute_result"
    }
   ],
   "source": [
    "da[-1]"
   ]
  },
  {
   "cell_type": "code",
   "execution_count": null,
   "id": "1d799825-51d4-4a04-8329-b61d3b526fe9",
   "metadata": {},
   "outputs": [],
   "source": []
  }
 ],
 "metadata": {
  "kernelspec": {
   "display_name": "Python 3 (ipykernel)",
   "language": "python",
   "name": "python3"
  },
  "language_info": {
   "codemirror_mode": {
    "name": "ipython",
    "version": 3
   },
   "file_extension": ".py",
   "mimetype": "text/x-python",
   "name": "python",
   "nbconvert_exporter": "python",
   "pygments_lexer": "ipython3",
   "version": "3.12.4"
  }
 },
 "nbformat": 4,
 "nbformat_minor": 5
}
